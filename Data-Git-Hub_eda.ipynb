{
 "cells": [
  {
   "cell_type": "markdown",
   "metadata": {},
   "source": [
    "# **WORK IN PROGRESS**  - Current as of February 15th 2025"
   ]
  },
  {
   "cell_type": "markdown",
   "metadata": {},
   "source": [
    "# Data-Git-Hub_eda.ipynb\n",
    "---\n",
    "\n",
    "## Exploring the data from the Veterans Affairs using the dataset of Veterans of the US that receive disability compensation and which state and county they reside in report year 2023:\n",
    "\n",
    "https://catalog.data.gov/dataset/fy-2023-disability-compensation-recipients-by-county\n",
    "\n",
    "---"
   ]
  },
  {
   "cell_type": "markdown",
   "metadata": {},
   "source": [
    "## I. Introduction\n",
    "The equitable distribution and accessibility of Veterans’ benefits are essential indicators of both social policy effectiveness and the overall well-being of the Veteran population across the United States. This report presents a county-level analysis of Veterans receiving VA Disability Compensation benefits at the end of fiscal year (FY) 2023, utilizing data from the Department of Veterans Affairs (VA), Office of Enterprise Integration, and the Veterans Benefits Administration (VBA). The dataset captures the total number of Veterans receiving compensation, their service-connected disability (SCD) ratings, as well as demographic factors such as age and gender. However, data suppression techniques were applied to protect the identities of individuals, leading to some missing values for specific demographic attributes. This analysis seeks to contextualize the distribution of disability compensation recipients relative to broader county-level demographic trends, urban population concentrations, and economic conditions, as measured by state-level Consumer Price Index (CPI) data for FY 2023.\n",
    "\n",
    "To further investigate regional disparities and potential correlations between Veteran compensation rates and broader socioeconomic factors, this study will integrate external datasets, including total county population figures and major metropolitan population distributions within those counties. This approach will provide a comparative framework to assess the proportion of Veterans receiving benefits relative to the total resident population. Additionally, incorporating state-level CPI data will allow for an economic assessment of how cost-of-living variations may impact the relative adequacy of VA Disability Compensation payments in different geographic areas. Understanding these dynamics is critical for policymakers, as variations in economic conditions may influence Veterans’ financial stability and access to essential services.\n",
    "\n",
    "This analysis will be conducted using Python within a Jupyter Notebook environment, leveraging robust data science tools for statistical modeling and geospatial visualization. Pandas will be used for structured data manipulation, while Matplotlib and Seaborn will facilitate the graphical representation of key trends. Possible utilization of geospatial patterns of VA Disability Compensation recipients will be explored using GeoPandas and Folium to develop interactive county-level heatmaps, highlighting areas of high and low benefit distribution. Furthermore, state-level CPI adjustments will be applied to evaluate compensation adequacy relative to regional economic conditions. These tools will collectively enable a comprehensive assessment of VA Disability Compensation distribution and provide actionable insights for future policy recommendations.\n",
    "\n",
    "By synthesizing VA administrative data with broader demographic and economic indicators, this study aims to offer a multidimensional perspective on the accessibility and effectiveness of disability compensation benefits across U.S. counties. The findings will provide a valuable foundation for future research on Veterans' financial well-being and inform targeted policy interventions to enhance benefit delivery in regions with higher economic disparities.\n",
    "\n",
    "### Background\n",
    "\n",
    "- VA Disability Compensation Benefits: \n",
    "  The VA Disability Compensation program is designed to provide monetary support to eligible Veterans suffering from service-connected disabilities. This financial assistance helps Veterans manage medical expenses, adapt to changes in their circumstances, and maintain a stable quality of life. <br>\n",
    "\n",
    "- Importance of Equitable Distribution and Accessibility: \n",
    "  An equitable distribution of these benefits is essential not only for individual financial stability but also for reinforcing public trust in the support systems provided by government institutions. Ensuring that benefits are accessible to all eligible Veterans—regardless of their county of residence—is critical in addressing broader issues of social and economic inequality. <br>\n",
    "\n",
    "### Objectives\n",
    "\n",
    "- County-Level Analysis:\n",
    "  To analyze the distribution of VA Disability Compensation benefits at the county level for fiscal year (FY) 2023, providing insights into which regions receive higher or lower levels of support. <br>\n",
    "\n",
    "- Contextualization with Demographics: \n",
    "  To integrate county demographic data—such as total population, age distribution, and the presence of major metropolitan areas—to understand how these factors relate to the distribution of benefits. <br>\n",
    "\n",
    "- Economic Context via CPI:\n",
    "  To assess how state-level economic conditions, as measured by the Consumer Price Index (CPI) for FY 2023, may influence the adequacy and impact of the compensation payments. <br>\n",
    "\n",
    "- Geospatial Insights: \n",
    "  To utilize geospatial visualization tools (GeoPandas and Folium) for mapping and identifying spatial patterns, clusters, and outliers in the distribution of benefits, thereby highlighting potential areas for policy intervention. <br>\n",
    "\n",
    "By addressing these objectives, this study aims to provide a comprehensive evaluation of the accessibility and effectiveness of VA Disability Compensation benefits across U.S. counties, ultimately offering data-driven insights to inform policy recommendations. <br>\n",
    "\n",
    "---"
   ]
  },
  {
   "cell_type": "markdown",
   "metadata": {},
   "source": [
    "## II. Research Questions\n",
    "\n",
    "This study seeks to address the following research questions: <br>\n",
    "\n",
    "- Demographic Correlations: <br> \n",
    "  - What are the demographic characteristics (e.g., age, gender, and service-connected disability (SCD) ratings) of Veterans receiving VA Disability Compensation? <br>\n",
    "  - How do these characteristics compare to the overall county demographics? <br>\n",
    "  - Are there notable differences in benefit distribution based on specific demographic subgroups? <br>\n",
    "\n",
    "- Urban vs. Rural Impact:  <br>\n",
    "  - How does the concentration of urban populations relate to the distribution of VA Disability Compensation benefits? <br>\n",
    "  - Do rural counties display significantly different compensation patterns compared to urban areas? <br>\n",
    "  - Can variations in urbanization and population density explain disparities in benefit allocation? <br>\n",
    "\n",
    "- Economic Influences: <br> \n",
    "  - What is the relationship between state-level Consumer Price Index (CPI) values and the adequacy of compensation payments across counties? <br>\n",
    "  - How do variations in economic conditions, as captured by CPI, influence the distribution and relative impact of benefits? <br>\n",
    "  - Is there evidence that higher cost-of-living areas receive benefits that are adjusted for economic differences? <br>\n",
    "\n",
    "- Population Proportions: <br>\n",
    "  - How do total county population figures and data on major metropolitan populations influence the proportion of Veterans receiving benefits? <br>\n",
    "  - Are benefits distributed in proportion to the overall county and metropolitan population sizes? <br>\n",
    "  - What patterns emerge when comparing compensation data against population metrics? <br>\n",
    "\n",
    "---"
   ]
  },
  {
   "cell_type": "markdown",
   "metadata": {},
   "source": [
    "## III. Data Sources\n",
    "**Title: FY 2023 Disability Compensation Recipients by County** <br>\n",
    "Format: CSV <br>\n",
    "Website: https://catalog.data.gov/dataset/fy-2023-disability-compensation-recipients-by-county/resource/24855f5c-09c3-45c3-a3e8-f39418a090fd <br>\n",
    "License: https://creativecommons.org/publicdomain/zero/1.0/ <br>\n",
    "\n",
    "**Title: Annual Estimates of the Resident Population for Counties in the United States: April 1, 2020 to July 1, 2023** <br>\n",
    "Format: XLSX <br>\n",
    "Website: https://www2.census.gov/programs-surveys/popest/datasets/2020-2023/counties/totals/co-est2023-alldata.csv <br>\n",
    "License: https://creativecommons.org/publicdomain/zero/1.0/ <br>\n",
    "\n",
    "**Title: United States Cities Database: January 23, 2025** <br>\n",
    "Format: CSV <br>\n",
    "Website: https://simplemaps.com/data/us-cities <br>\n",
    "License: https://creativecommons.org/licenses/by/4.0/ <br>\n",
    "\n",
    "**Title: Consumer Price Index for All Urban Consumers (CPI-U): U.S. city average, by expenditure category, December 2023** <br>\n",
    "Format: XLSX <br>\n",
    "Website: https://www.bls.gov/cpi/tables/supplemental-files/cpi-u-202312.xlsx <br>\n",
    "Licnese: License: https://creativecommons.org/publicdomain/zero/1.0/ <br>\n",
    "\n",
    "---"
   ]
  },
  {
   "cell_type": "markdown",
   "metadata": {},
   "source": [
    "## IV. Data Collection & Preparation\n",
    "\n",
    "In this section, we load, clean, merge, and transform our datasets to prepare them for analysis. We currently have four key datasets:\n",
    "\n",
    "1. **VA Disability Compensation Data:**  \n",
    "   - File: `FY_2023_Disability_Compensation_Recipients_by_County.csv`  \n",
    "   - Contains county-level data on Veterans receiving compensation, along with some demographic details (age, gender, SCD ratings).\n",
    "\n",
    "2. **County Population Estimates:**  \n",
    "   - File: `co-est2023-pop.xlsx`  \n",
    "   - Provides population estimates for counties (based on 2020 census records projected through 2024).\n",
    "\n",
    "3. County Geospatial Data: \n",
    "   - Needed for GeoPandas/Folium: (WORKING IN PROGRESS)\n",
    "   - Required a shapefile or GeoJSON file that includes county boundaries. (WORK IN PROGRESS)  \n",
    "   - Download U.S. county boundaries from sources from the U.S. Census Bureau’s TIGER/Line Shapefiles. (WORK IN PROGRESS) \n",
    "   - File: county_shapefile.shp (Stored in your data folder). (WORK IN PROGRESS)\n",
    "\n",
    "\n",
    "### IV. A. Loading Data\n",
    "\n",
    "We’ll use Pandas to load the CSV and Excel files and GeoPandas for the geospatial data.\n",
    "\n"
   ]
  },
  {
   "cell_type": "code",
   "execution_count": 273,
   "metadata": {},
   "outputs": [],
   "source": [
    "import pandas as pd\n",
    "from IPython.display import display\n",
    "\n",
    "# Load VA Disability Compensation Data\n",
    "va_data = pd.read_csv('data/FY_2023_Disability_Compensation_Recipients_by_County.csv')\n",
    "\n",
    "# Load County Population Estimates Data\n",
    "pop_data = pd.read_excel('data/co-est2023-pop.xlsx')\n"
   ]
  },
  {
   "cell_type": "markdown",
   "metadata": {},
   "source": [
    "### IV. B. Initial Data Inspection\n",
    "\n",
    "Displaying the first few rows of each dataset.\n",
    "- FY_2023_Disability_Compensation_Recipients_by_County.csv - VA Data"
   ]
  },
  {
   "cell_type": "code",
   "execution_count": 274,
   "metadata": {},
   "outputs": [
    {
     "name": "stdout",
     "output_type": "stream",
     "text": [
      "VA Data Preview:\n",
      "  FIPS code    State County Name  Total: Disability Compensation Recipients  SCD rating: 0% to 20%  SCD rating: 30% to 40%  SCD rating: 50% to 60%  SCD rating: 70% to 90%  SCD rating: 100%  Age: 17-44  Age: 45-64  Age: 65 or older    Male  Female\n",
      "0      1001  Alabama     Autauga                                     2636.0                  438.0                   283.0                   332.0                   838.0             745.0       658.0      1182.0             795.0  2159.0   477.0\n",
      "1      1003  Alabama     Baldwin                                     6329.0                 1549.0                   819.0                   845.0                  1760.0            1356.0      1372.0      2045.0            2911.0  5754.0   573.0\n",
      "2      1005  Alabama     Barbour                                      604.0                  104.0                    51.0                    90.0                   198.0             161.0        99.0       234.0             271.0   528.0    76.0\n",
      "3      1007  Alabama        Bibb                                      268.0                   48.0                    33.0                    34.0                    91.0              62.0        52.0        97.0             119.0   245.0    23.0\n",
      "4      1009  Alabama      Blount                                      973.0                  209.0                   125.0                   135.0                   288.0             216.0       239.0       282.0             452.0   915.0    58.0 \n",
      "\n",
      "Missing values in VA Data:\n",
      "FIPS code                                      0\n",
      "State                                          0\n",
      "County Name                                    0\n",
      "Total: Disability Compensation Recipients     19\n",
      "SCD rating: 0% to 20%                        136\n",
      "SCD rating: 30% to 40%                       316\n",
      "SCD rating: 50% to 60%                       310\n",
      "SCD rating: 70% to 90%                       143\n",
      "SCD rating: 100%                             235\n",
      "Age: 17-44                                   206\n",
      "Age: 45-64                                   202\n",
      "Age: 65 or older                              58\n",
      "Male                                         554\n",
      "Female                                       554 \n",
      "\n"
     ]
    }
   ],
   "source": [
    "pd.set_option('display.max_columns', None)\n",
    "pd.set_option('display.width', 2000)\n",
    "pd.set_option('display.max_colwidth', None)\n",
    "\n",
    "print(\"VA Data Preview:\")\n",
    "print(va_data.head().to_string(), \"\\n\")\n",
    "\n",
    "# Check for missing values in each dataset and print the full output\n",
    "print(\"Missing values in VA Data:\")\n",
    "print(va_data.isna().sum().to_string(), \"\\n\")\n",
    "\n"
   ]
  },
  {
   "cell_type": "markdown",
   "metadata": {},
   "source": [
    "\n",
    "Displaying the first few rows of each dataset.\n",
    "- co-est2023-pop.xlsx - Population Data"
   ]
  },
  {
   "cell_type": "code",
   "execution_count": 275,
   "metadata": {},
   "outputs": [
    {
     "name": "stdout",
     "output_type": "stream",
     "text": [
      "Population Data Preview:\n",
      "            Geographic Area       2019       2020       2021       2022       2023\n",
      "0             United States  331464948  331526933  332048977  333271411  334914895\n",
      "1  .Autauga County, Alabama      58809      58915      59203      59726      60342\n",
      "2  .Baldwin County, Alabama     231768     233227     239439     246531     253507\n",
      "3  .Barbour County, Alabama      25229      24969      24533      24700      24585\n",
      "4     .Bibb County, Alabama      22301      22188      22359      21986      21868 \n",
      "\n",
      "Missing values in Population Data:\n",
      "Geographic Area    0\n",
      "2019               0\n",
      "2020               0\n",
      "2021               0\n",
      "2022               0\n",
      "2023               0 \n",
      "\n"
     ]
    }
   ],
   "source": [
    "pd.set_option('display.max_columns', None)\n",
    "pd.set_option('display.width', 2000)\n",
    "pd.set_option('display.max_colwidth', None)\n",
    "\n",
    "print(\"Population Data Preview:\")\n",
    "print(pop_data.head().to_string(), \"\\n\")\n",
    "\n",
    "# Check for missing values in each dataset and print the full output\n",
    "print(\"Missing values in Population Data:\")\n",
    "print(pop_data.isna().sum().to_string(), \"\\n\")\n"
   ]
  },
  {
   "cell_type": "markdown",
   "metadata": {},
   "source": [
    "### IV. C. Data Cleaning\n",
    "\n",
    "Next, we examine and clean our datasets—addressing missing values, data suppression, and standardizing column names for easier merging.\n",
    "\n",
    "- VA Data"
   ]
  },
  {
   "cell_type": "code",
   "execution_count": 276,
   "metadata": {},
   "outputs": [
    {
     "name": "stdout",
     "output_type": "stream",
     "text": [
      "Cleaned VA Data Columns:\n",
      "['fips code', 'state', 'county name', 'total: disability compensation recipients', 'scd rating: 0% to 20%', 'scd rating: 30% to 40%', 'scd rating: 50% to 60%', 'scd rating: 70% to 90%', 'scd rating: 100%', 'age: 17-44', 'age: 45-64', 'age: 65 or older', 'male', 'female'] \n",
      "\n",
      "Cleaned VA Data Preview:\n",
      "  fips code    state county name  total: disability compensation recipients  scd rating: 0% to 20%  scd rating: 30% to 40%  scd rating: 50% to 60%  scd rating: 70% to 90%  scd rating: 100%  age: 17-44  age: 45-64  age: 65 or older    male  female\n",
      "0      1001  Alabama     Autauga                                     2636.0                  438.0                   283.0                   332.0                   838.0             745.0       658.0      1182.0             795.0  2159.0   477.0\n",
      "1      1003  Alabama     Baldwin                                     6329.0                 1549.0                   819.0                   845.0                  1760.0            1356.0      1372.0      2045.0            2911.0  5754.0   573.0\n",
      "2      1005  Alabama     Barbour                                      604.0                  104.0                    51.0                    90.0                   198.0             161.0        99.0       234.0             271.0   528.0    76.0\n",
      "3      1007  Alabama        Bibb                                      268.0                   48.0                    33.0                    34.0                    91.0              62.0        52.0        97.0             119.0   245.0    23.0\n",
      "4      1009  Alabama      Blount                                      973.0                  209.0                   125.0                   135.0                   288.0             216.0       239.0       282.0             452.0   915.0    58.0 \n",
      "\n"
     ]
    }
   ],
   "source": [
    "# Standardize column names: convert to lower case and remove extra spaces\n",
    "va_data.columns = va_data.columns.astype(str).str.lower().str.strip()\n",
    "\n",
    "# Optionally, fill missing values in specific columns (for example, 'age' and 'gender')\n",
    "va_data_cleaned = va_data.fillna({'age': 'Unknown', 'gender': 'Unknown'})\n",
    "\n",
    "# Display the cleaned column names for verification\n",
    "print(\"Cleaned VA Data Columns:\")\n",
    "print(va_data_cleaned.columns.tolist(), \"\\n\")\n",
    "\n",
    "# Final preview of the cleaned VA data\n",
    "print(\"Cleaned VA Data Preview:\")\n",
    "print(va_data_cleaned.head().to_string(), \"\\n\")\n"
   ]
  },
  {
   "cell_type": "markdown",
   "metadata": {},
   "source": [
    "- Population Data"
   ]
  },
  {
   "cell_type": "code",
   "execution_count": 277,
   "metadata": {},
   "outputs": [
    {
     "name": "stdout",
     "output_type": "stream",
     "text": [
      "Cleaned Population Data Columns:\n",
      "['geographic area', '2019', '2020', '2021', '2022', '2023'] \n",
      "\n",
      "Cleaned Population Data Preview:\n",
      "            geographic area       2019       2020       2021       2022       2023\n",
      "0             United States  331464948  331526933  332048977  333271411  334914895\n",
      "1  .Autauga County, Alabama      58809      58915      59203      59726      60342\n",
      "2  .Baldwin County, Alabama     231768     233227     239439     246531     253507\n",
      "3  .Barbour County, Alabama      25229      24969      24533      24700      24585\n",
      "4     .Bibb County, Alabama      22301      22188      22359      21986      21868 \n",
      "\n",
      "Modified Population Data Preview:\n",
      "        sub_state          state\n",
      "0            None  United States\n",
      "1  Autauga County        Alabama\n",
      "2  Baldwin County        Alabama\n",
      "3  Barbour County        Alabama\n",
      "4     Bibb County        Alabama \n",
      "\n"
     ]
    }
   ],
   "source": [
    "# Load the Population Data using the first row as header\n",
    "pop_data = pd.read_excel('data/co-est2023-pop.xlsx', header=0)\n",
    "\n",
    "# Standardize column names: convert to lower case and remove extra spaces\n",
    "pop_data.columns = pop_data.columns.astype(str).str.lower().str.strip()\n",
    "\n",
    "# Display the cleaned column names and preview data\n",
    "print(\"Cleaned Population Data Columns:\")\n",
    "print(pop_data.columns.tolist(), \"\\n\")\n",
    "\n",
    "print(\"Cleaned Population Data Preview:\")\n",
    "print(pop_data.head().to_string(), \"\\n\")\n",
    "\n",
    "# Define a function to clean the \"geographic area\" column\n",
    "def split_geographic_area(geo):\n",
    "    # Remove a leading period, if present\n",
    "    geo = geo.lstrip('.')\n",
    "    # If a comma is present, split into two parts\n",
    "    if ',' in geo:\n",
    "        parts = geo.split(',')\n",
    "        # Trim whitespace from both parts\n",
    "        sub_state = parts[0].strip()  # Renamed from county to sub_state\n",
    "        state = parts[1].strip()\n",
    "    else:\n",
    "        # For entries without a comma (e.g., \"United States\"), assign accordingly\n",
    "        sub_state = None\n",
    "        state = geo.strip()\n",
    "    return pd.Series([sub_state, state])\n",
    "\n",
    "# Apply the function to the 'geographic area' column to create new 'sub_state' and 'state' columns\n",
    "pop_data[['sub_state', 'state']] = pop_data['geographic area'].apply(split_geographic_area)\n",
    "\n",
    "# Optional: If you no longer need the original 'geographic area' column, you can drop it:\n",
    "# pop_data = pop_data.drop(columns=['geographic area'])\n",
    "\n",
    "# Display a preview of the modified DataFrame\n",
    "print(\"Modified Population Data Preview:\")\n",
    "print(pop_data[['sub_state', 'state']].head().to_string(), \"\\n\")\n"
   ]
  },
  {
   "cell_type": "markdown",
   "metadata": {},
   "source": [
    "### IV. D. Necessary Data Suppression\n",
    "\n",
    "#### IV. D. 1. Suppression of Connecticut from Research\n",
    "\n",
    "For this study, it is crucial that the data sources we use align in terms of geographical granularity. The VA Disability Compensation data is provided at the **county level**, meaning each county's data is recorded separately. On the other hand, the Census population data for Connecticut is aggregated at a **regional level** rather than by individual counties. This mismatch in the level of detail (county vs. regional) makes it challenging to accurately compare or merge these two datasets for Connecticut.\n",
    "\n",
    "To maintain consistency in our analysis, we have decided to **suppress** data for Connecticut. By removing Connecticut from both the VA data and the Population data, we ensure that our comparisons and insights are based on compatible, county-level data across all states included in the analysis."
   ]
  },
  {
   "cell_type": "code",
   "execution_count": 278,
   "metadata": {},
   "outputs": [
    {
     "name": "stdout",
     "output_type": "stream",
     "text": [
      "Population Data: Next 5 rows after row 308 (rows 308 to 313):\n",
      "                  geographic area    2019    2020    2021    2022    2023          sub_state     state\n",
      "308        .Weld County, Colorado  328987  331458  339897  350266  359442        Weld County  Colorado\n",
      "309        .Yuma County, Colorado    9981    9971    9925    9895    9862        Yuma County  Colorado\n",
      "319        .Kent County, Delaware  181858  182315  185043  187758  189789        Kent County  Delaware\n",
      "320  .New Castle County, Delaware  570713  570918  572029  575254  578592  New Castle County  Delaware\n",
      "321      .Sussex County, Delaware  237375  238629  247809  256447  263509      Sussex County  Delaware \n",
      "\n",
      "VA Data: Next 5 rows after row 304 (rows 304 to 309):\n",
      "    fips code     state county name  total: disability compensation recipients  scd rating: 0% to 20%  scd rating: 30% to 40%  scd rating: 50% to 60%  scd rating: 70% to 90%  scd rating: 100%  age: 17-44  age: 45-64  age: 65 or older    male  female\n",
      "305      8119  Colorado      Teller                                     1246.0                  229.0                   141.0                   169.0                   362.0             345.0       278.0       506.0             462.0  1074.0   172.0\n",
      "306      8121  Colorado  Washington                                       60.0                   13.0                     NaN                     NaN                    15.0              13.0        18.0        17.0              25.0     NaN     NaN\n",
      "307      8123  Colorado        Weld                                     5236.0                 1393.0                   754.0                   773.0                  1434.0             882.0      2041.0      1439.0            1756.0  4662.0   573.0\n",
      "308      8125  Colorado        Yuma                                       84.0                   24.0                    19.0                    13.0                    18.0              10.0        16.0        17.0              51.0     NaN     NaN\n",
      "317     10001  Delaware        Kent                                     6138.0                 1173.0                   734.0                   860.0                  1964.0            1407.0      1412.0      2567.0            2159.0  5118.0  1020.0 \n",
      "\n"
     ]
    }
   ],
   "source": [
    "# Filter Out Rows Where 'state' is \"Connecticut\" in Both Datasets\n",
    "\n",
    "va_data_filtered = va_data_cleaned[va_data_cleaned['state'].str.lower() != 'connecticut']\n",
    "pop_data_filtered = pop_data[pop_data['state'].str.lower() != 'connecticut']\n",
    "\n",
    "#    For Population Data: After row 310 (i.e., rows 311 to 315) to show the exclusion of \"Connecticut\"\n",
    "#    For VA Data: After row 309 (i.e., rows 310 to 314)to show the exclusion of \"Connecticut\"\n",
    "\n",
    "print(\"Population Data: Next 5 rows after row 308 (rows 308 to 313):\")\n",
    "print(pop_data_filtered.iloc[308:313].to_string(), \"\\n\")\n",
    "\n",
    "print(\"VA Data: Next 5 rows after row 304 (rows 304 to 309):\")\n",
    "print(va_data_filtered.iloc[305:310].to_string(), \"\\n\")"
   ]
  },
  {
   "cell_type": "markdown",
   "metadata": {},
   "source": [
    "#### IV. D. 2. Removing Unwanted Terms from the `sub_state` Column\n",
    "\n",
    "In our Population data, the `sub_state` column contains administrative descriptors such as \"parish\", \"county\", \"borough\", \"census area\", and \"municipality\". These terms can interfere with our analysis by introducing inconsistencies in the naming conventions.\n",
    "\n",
    "To clean this column, we will:\n",
    "- Use a regular expression (regex) to match any of the unwanted terms, regardless of case.\n",
    "- Replace any occurrence of these terms with an empty string.\n",
    "- Trim the resulting string to remove any extra whitespace.\n",
    "\n",
    "This will standardize the `sub_state` names and ensure that only the relevant part of the name remains.\n"
   ]
  },
  {
   "cell_type": "code",
   "execution_count": 279,
   "metadata": {},
   "outputs": [
    {
     "name": "stdout",
     "output_type": "stream",
     "text": [
      "Preview of cleaned 'sub_state' column:\n",
      "  sub_state\n",
      "0      None\n",
      "1   Autauga\n",
      "2   Baldwin\n",
      "3   Barbour\n",
      "4      Bibb \n",
      "\n"
     ]
    }
   ],
   "source": [
    "# Define the regex pattern for the unwanted terms.\n",
    "pattern = r'\\b(parish|county|borough|census area|municipality)\\b'\n",
    "\n",
    "# Use .loc to update the 'sub_state' column in pop_data_filtered to avoid SettingWithCopyWarning.\n",
    "pop_data_filtered.loc[:, 'sub_state'] = pop_data_filtered['sub_state'].str.replace(pattern, '', case=False, regex=True).str.strip()\n",
    "\n",
    "# Display a preview of the cleaned 'sub_state' column.\n",
    "print(\"Preview of cleaned 'sub_state' column:\")\n",
    "print(pop_data_filtered[['sub_state']].head().to_string(), \"\\n\")\n"
   ]
  },
  {
   "cell_type": "markdown",
   "metadata": {},
   "source": [
    "### IV. E. Data Merging  \n",
    "- Integrate VA data with Population dataset.\n",
    "\n",
    "- Merging VA and Population Data, and Checking for Outliers\n",
    "\n",
    "To ensure consistency between our datasets, we merge the VA data (which contains `\"state\"` and `\"county name\"`) with the Population data (which now has `\"state\"` and `\"sub_state\"`). The merge is done on the `\"state\"` and `\"county name\"` (from the VA data) matching the `\"state\"` and `\"sub_state\"` (from the Population data).\n",
    "\n",
    "We use a left merge and set the `indicator=True` parameter. This creates a new column `_merge` that indicates the source of each row:\n",
    "- `\"both\"` means the row had a match in both datasets.\n",
    "- `\"left_only\"` indicates rows from the VA data that did not find a matching row in the Population data.\n",
    "- `\"right_only\"` (if using a different merge method) would indicate unmatched Population rows.\n",
    "\n",
    "After merging, we extract the rows where `_merge` is not `\"both\"`. These rows represent the mismatches or outliers that require further inspection.\n"
   ]
  },
  {
   "cell_type": "code",
   "execution_count": 280,
   "metadata": {},
   "outputs": [
    {
     "name": "stdout",
     "output_type": "stream",
     "text": [
      "Merge Indicator Value Counts:\n",
      "_merge\n",
      "both          3090\n",
      "left_only       49\n",
      "right_only       0\n",
      "Name: count, dtype: int64 \n",
      "\n",
      "Rows with mismatches or missing Population data:\n",
      "                                       state                             county name sub_state     _merge\n",
      "79                                    Alaska                                  Juneau       NaN  left_only\n",
      "91                                    Alaska                                   Sitka       NaN  left_only\n",
      "94                                    Alaska                                Wrangell       NaN  left_only\n",
      "95                                    Alaska                                 Yakutat       NaN  left_only\n",
      "1209                                Maryland                          Baltimore City       NaN  left_only\n",
      "1590                                Missouri                          St. Louis City       NaN  left_only\n",
      "1795                              New Mexico                                Dona Ana       NaN  left_only\n",
      "2908                                Virginia                         Alexandria City       NaN  left_only\n",
      "2909                                Virginia                            Bristol City       NaN  left_only\n",
      "2910                                Virginia                        Buena Vista City       NaN  left_only\n",
      "2911                                Virginia                    Charlottesville City       NaN  left_only\n",
      "2912                                Virginia                         Chesapeake City       NaN  left_only\n",
      "2913                                Virginia                   Colonial Heights City       NaN  left_only\n",
      "2914                                Virginia                          Covington City       NaN  left_only\n",
      "2915                                Virginia                           Danville City       NaN  left_only\n",
      "2916                                Virginia                            Emporia City       NaN  left_only\n",
      "2917                                Virginia                            Fairfax City       NaN  left_only\n",
      "2918                                Virginia                       Falls Church City       NaN  left_only\n",
      "2919                                Virginia                           Franklin City       NaN  left_only\n",
      "2920                                Virginia                     Fredericksburg City       NaN  left_only\n",
      "2921                                Virginia                              Galax City       NaN  left_only\n",
      "2922                                Virginia                            Hampton City       NaN  left_only\n",
      "2923                                Virginia                       Harrisonburg City       NaN  left_only\n",
      "2924                                Virginia                           Hopewell City       NaN  left_only\n",
      "2925                                Virginia                          Lexington City       NaN  left_only\n",
      "2926                                Virginia                          Lynchburg City       NaN  left_only\n",
      "2927                                Virginia                           Manassas City       NaN  left_only\n",
      "2928                                Virginia                      Manassas Park City       NaN  left_only\n",
      "2929                                Virginia                       Martinsville City       NaN  left_only\n",
      "2930                                Virginia                       Newport News City       NaN  left_only\n",
      "2931                                Virginia                            Norfolk City       NaN  left_only\n",
      "2932                                Virginia                             Norton City       NaN  left_only\n",
      "2933                                Virginia                         Petersburg City       NaN  left_only\n",
      "2934                                Virginia                           Poquoson City       NaN  left_only\n",
      "2935                                Virginia                         Portsmouth City       NaN  left_only\n",
      "2936                                Virginia                            Radford City       NaN  left_only\n",
      "2937                                Virginia                           Richmond City       NaN  left_only\n",
      "2938                                Virginia                            Roanoke City       NaN  left_only\n",
      "2939                                Virginia                              Salem City       NaN  left_only\n",
      "2940                                Virginia                           Staunton City       NaN  left_only\n",
      "2941                                Virginia                            Suffolk City       NaN  left_only\n",
      "2942                                Virginia                     Virginia Beach City       NaN  left_only\n",
      "2943                                Virginia                         Waynesboro City       NaN  left_only\n",
      "2944                                Virginia                       Williamsburg City       NaN  left_only\n",
      "2945                                Virginia                         Winchester City       NaN  left_only\n",
      "3135                             Puerto Rico                            All counties       NaN  left_only\n",
      "3136  US Territories (excluding Puerto Rico)  US Territories (excluding Puerto Rico)       NaN  left_only\n",
      "3137                 Other Foreign Countries                 Other Foreign Countries       NaN  left_only\n",
      "3138                                 Unknown                                 Unknown       NaN  left_only \n",
      "\n"
     ]
    }
   ],
   "source": [
    "# Merge the VA and Population Data\n",
    "\n",
    "merged_data = pd.merge(\n",
    "    va_data_filtered, \n",
    "    pop_data_filtered, \n",
    "    left_on=['state', 'county name'],   # VA data columns (already cleaned to lower case)\n",
    "    right_on=['state', 'sub_state'],      # Population data columns\n",
    "    how='left', \n",
    "    indicator=True\n",
    ")\n",
    "\n",
    "# Display the counts of the merge indicator to see overall matching\n",
    "print(\"Merge Indicator Value Counts:\")\n",
    "print(merged_data['_merge'].value_counts(), \"\\n\")\n",
    "\n",
    "# 2. Extract and Display Outliers (Unmatched Rows)\n",
    "\n",
    "# Rows that did not have a match (i.e. _merge not equal to 'both') are potential outliers.\n",
    "unmatched_rows = merged_data[merged_data['_merge'] != 'both']\n",
    "\n",
    "print(\"Rows with mismatches or missing Population data:\")\n",
    "print(unmatched_rows[['state', 'county name', 'sub_state', '_merge']].to_string(), \"\\n\")"
   ]
  },
  {
   "cell_type": "markdown",
   "metadata": {},
   "source": [
    "### IV. F. Excluding Unmatched Rows and Displaying Merged Data\n",
    "\n",
    "After merging the VA and Population data, we identified some unmatched rows (i.e., records where `_merge` is `\"left_only\"`). Since we expect only about 49 unmatched records, we will now exclude these from our merged dataset. The resulting dataset will only contain rows where there was a match in both datasets (i.e., `_merge` equals `\"both\"`).\n",
    "\n",
    "Finally, we display the first ten complete rows of the merged data to verify the final output. \n",
    "\n",
    "Most of the lines that didn't have a match have been Cities, US Territories less Puerto Rico, Puerto Rico, Other Foreign Countries, and one Unknown, which might be a header or footer information.\n"
   ]
  },
  {
   "cell_type": "code",
   "execution_count": 281,
   "metadata": {},
   "outputs": [
    {
     "name": "stdout",
     "output_type": "stream",
     "text": [
      "First 10 complete merged rows (where _merge == 'both'):\n",
      "  fips code    state county name  total: disability compensation recipients  scd rating: 0% to 20%  scd rating: 30% to 40%  scd rating: 50% to 60%  scd rating: 70% to 90%  scd rating: 100%  age: 17-44  age: 45-64  age: 65 or older    male  female            geographic area      2019      2020      2021      2022      2023 sub_state _merge\n",
      "0      1001  Alabama     Autauga                                     2636.0                  438.0                   283.0                   332.0                   838.0             745.0       658.0      1182.0             795.0  2159.0   477.0   .Autauga County, Alabama   58809.0   58915.0   59203.0   59726.0   60342.0   Autauga   both\n",
      "1      1003  Alabama     Baldwin                                     6329.0                 1549.0                   819.0                   845.0                  1760.0            1356.0      1372.0      2045.0            2911.0  5754.0   573.0   .Baldwin County, Alabama  231768.0  233227.0  239439.0  246531.0  253507.0   Baldwin   both\n",
      "2      1005  Alabama     Barbour                                      604.0                  104.0                    51.0                    90.0                   198.0             161.0        99.0       234.0             271.0   528.0    76.0   .Barbour County, Alabama   25229.0   24969.0   24533.0   24700.0   24585.0   Barbour   both\n",
      "3      1007  Alabama        Bibb                                      268.0                   48.0                    33.0                    34.0                    91.0              62.0        52.0        97.0             119.0   245.0    23.0      .Bibb County, Alabama   22301.0   22188.0   22359.0   21986.0   21868.0      Bibb   both\n",
      "4      1009  Alabama      Blount                                      973.0                  209.0                   125.0                   135.0                   288.0             216.0       239.0       282.0             452.0   915.0    58.0    .Blount County, Alabama   59130.0   59107.0   59079.0   59516.0   59816.0    Blount   both\n",
      "5      1011  Alabama     Bullock                                      198.0                   37.0                    23.0                    26.0                    55.0              57.0        40.0        71.0              87.0   171.0    27.0   .Bullock County, Alabama   10360.0   10229.0   10143.0   10143.0    9897.0   Bullock   both\n",
      "6      1013  Alabama      Butler                                      453.0                   77.0                    46.0                    56.0                   139.0             135.0        86.0       171.0             196.0   399.0    54.0    .Butler County, Alabama   19046.0   19025.0   18890.0   18668.0   18382.0    Butler   both\n",
      "7      1015  Alabama     Calhoun                                     3343.0                  719.0                   386.0                   433.0                   995.0             810.0       579.0      1169.0            1595.0  2918.0   425.0   .Calhoun County, Alabama  116441.0  116243.0  115678.0  115780.0  116429.0   Calhoun   both\n",
      "8      1017  Alabama    Chambers                                      675.0                  111.0                    63.0                    83.0                   243.0             175.0       146.0       202.0             327.0   615.0    60.0  .Chambers County, Alabama   34772.0   34651.0   34488.0   34164.0   34079.0  Chambers   both\n",
      "9      1019  Alabama    Cherokee                                      506.0                  123.0                    48.0                    63.0                   148.0             124.0        74.0       139.0             293.0   467.0    39.0  .Cherokee County, Alabama   24973.0   24969.0   25074.0   25353.0   25666.0  Cherokee   both \n",
      "\n"
     ]
    }
   ],
   "source": [
    "# Exclude rows where _merge is not 'both' (i.e., exclude left_only rows)\n",
    "merged_complete = merged_data[merged_data['_merge'] == 'both']\n",
    "\n",
    "# Display the first 10 complete merged rows\n",
    "print(\"First 10 complete merged rows (where _merge == 'both'):\")\n",
    "print(merged_complete.head(10).to_string(), \"\\n\")\n"
   ]
  },
  {
   "cell_type": "markdown",
   "metadata": {},
   "source": [
    "### IV. G Data Transformation\n",
    "\n",
    "#### IV. G. 1. We calculate the percentage of the county's total population that receives disability compensation and round the result to two decimal places. This standardized metric is useful for comparing counties regardless of population size. <br>\n",
    "In this transformation, we calculate the percentage of the county's total population that receives disability compensation. This is computed as: <br>\n",
    "\n",
    "Disability Compensation Percentage = (Total Disability Recipients /Population (2023)) x 100 <br>\n",
    "\n",
    "This standardized metric allows for a direct comparison across counties regardless of their population sizes."
   ]
  },
  {
   "cell_type": "code",
   "execution_count": 282,
   "metadata": {},
   "outputs": [
    {
     "name": "stdout",
     "output_type": "stream",
     "text": [
      "Preview of Disability Compensation Percentage (of total county population, rounded to 2 decimals):\n",
      "     state county name  disability_rate_percentage\n",
      "0  Alabama     Autauga                        4.37\n",
      "1  Alabama     Baldwin                        2.50\n",
      "2  Alabama     Barbour                        2.46\n",
      "3  Alabama        Bibb                        1.23\n",
      "4  Alabama      Blount                        1.63\n",
      "5  Alabama     Bullock                        2.00\n",
      "6  Alabama      Butler                        2.46\n",
      "7  Alabama     Calhoun                        2.87\n",
      "8  Alabama    Chambers                        1.98\n",
      "9  Alabama    Cherokee                        1.97 \n",
      "\n"
     ]
    }
   ],
   "source": [
    "# Create a copy of merged_complete to avoid SettingWithCopyWarning\n",
    "merged_complete = merged_complete.copy()\n",
    "\n",
    "# Calculate the disability compensation percentage and round to two decimal places\n",
    "merged_complete.loc[:, 'disability_rate_percentage'] = (\n",
    "    (merged_complete['total: disability compensation recipients'] / merged_complete['2023']) * 100\n",
    ").round(2)\n",
    "\n",
    "# Display a preview of the results\n",
    "print(\"Preview of Disability Compensation Percentage (of total county population, rounded to 2 decimals):\")\n",
    "print(merged_complete[['state', 'county name', 'disability_rate_percentage']].head(10).to_string(), \"\\n\")\n",
    "\n"
   ]
  },
  {
   "cell_type": "markdown",
   "metadata": {},
   "source": [
    "#### IV. G. 1. A. List of the 10 of the highest and lowest population of Disabled Veterans in County and State.\n",
    "\n",
    "Using our merged dataset, we can identify counties with the highest and lowest percentage of Disabled Veterans population.  <br>\n",
    "We use the `\"total: disability compensation recipients\"` column (which indicates the population of Disabled Veterans) to: <br>\n",
    "- **Sort the data in descending order** to find the top 10 counties with the highest percentage of Disabled Veterans. <br>\n",
    "- **Sort the data in ascending order** to find the bottom 10 counties with the lowest percentage of Disabled Veterans. <br>\n",
    "\n",
    "The output will display the corresponding `state`, `county name`, and the percentage of Disabled Veterans for each county. <br>"
   ]
  },
  {
   "cell_type": "code",
   "execution_count": 283,
   "metadata": {},
   "outputs": [
    {
     "name": "stdout",
     "output_type": "stream",
     "text": [
      "Top 10 Counties with Highest Percentage of Disabled Veterans:\n",
      "         state county name  disability_percentage\n",
      "       Georgia     Liberty                   9.74\n",
      "         Texas        Bell                   9.45\n",
      "North Carolina        Hoke                   9.26\n",
      "         Texas    Lampasas                   9.20\n",
      "       Georgia        Long                   9.10\n",
      "North Carolina      Onslow                   9.05\n",
      "North Carolina  Cumberland                   8.87\n",
      "     Tennessee  Montgomery                   8.84\n",
      "      Missouri     Pulaski                   8.73\n",
      "        Kansas       Geary                   8.43 \n",
      "\n",
      "Top 10 Counties with Lowest Percentage of Disabled Veterans:\n",
      "        state      county name  disability_percentage\n",
      "       Alaska      North Slope                   0.13\n",
      "Massachusetts        Nantucket                   0.27\n",
      "     New York         New York                   0.30\n",
      "     New York            Kings                   0.31\n",
      "   New Jersey           Hudson                   0.33\n",
      "     New York           Queens                   0.33\n",
      "       Alaska Northwest Arctic                   0.35\n",
      "       Alaska           Bethel                   0.38\n",
      "     New York            Bronx                   0.40\n",
      "        Texas          Sherman                   0.41 \n",
      "\n"
     ]
    }
   ],
   "source": [
    "# Create a copy to avoid modifying slices\n",
    "merged_complete = merged_complete.copy()\n",
    "\n",
    "# Compute the percentage of the population that receives disability compensation\n",
    "merged_complete.loc[:, 'disability_percentage'] = (\n",
    "    (merged_complete['total: disability compensation recipients'] / merged_complete['2023']) * 100\n",
    ").round(2)\n",
    "\n",
    "# Sort in descending order for the top 10 counties with the highest percentage of disabled veterans\n",
    "top10_percentage = merged_complete.sort_values(\n",
    "    by='disability_percentage', ascending=False\n",
    ").head(10)\n",
    "\n",
    "# Sort in ascending order for the bottom 10 counties with the lowest percentage of disabled veterans\n",
    "lowest10_percentage = merged_complete.sort_values(\n",
    "    by='disability_percentage', ascending=True\n",
    ").head(10)\n",
    "\n",
    "print(\"Top 10 Counties with Highest Percentage of Disabled Veterans:\")\n",
    "print(top10_percentage[['state', 'county name', 'disability_percentage']].to_string(index=False), \"\\n\")\n",
    "\n",
    "print(\"Top 10 Counties with Lowest Percentage of Disabled Veterans:\")\n",
    "print(lowest10_percentage[['state', 'county name', 'disability_percentage']].to_string(index=False), \"\\n\")\n"
   ]
  },
  {
   "cell_type": "markdown",
   "metadata": {},
   "source": [
    "#### IV. G. 2. Aggregate Data by State\n",
    "\n",
    "Another interesting transformation is to aggregate data at the state level. <br>\n",
    "For each state, we can: <br>\n",
    "\n",
    "- Sum the total disability compensation recipients across all counties. <br>\n",
    "- Sum the total population (using the 2023 estimates). <br>\n",
    "- Compute a state-level disability compensation rate per 1,000 residents.<br> \n",
    "\n",
    "This state-level aggregation can help identify which states have relatively higher or lower rates, offering insights for policymakers. <br>\n",
    "\n"
   ]
  },
  {
   "cell_type": "code",
   "execution_count": 284,
   "metadata": {},
   "outputs": [
    {
     "name": "stdout",
     "output_type": "stream",
     "text": [
      "State-Level Aggregated Data with Disability Rate (per 1,000 residents):\n",
      "             state  total: disability compensation recipients        2023  state_disability_rate_per_1000\n",
      "1           Alaska                                    22786.0    690818.0                       32.984086\n",
      "35        Oklahoma                                   109294.0   4053824.0                       26.960717\n",
      "49         Wyoming                                    15304.0    584057.0                       26.202922\n",
      "39  South Carolina                                   135982.0   5373555.0                       25.305780\n",
      "25         Montana                                    27895.0   1132812.0                       24.624563\n",
      "0          Alabama                                   125235.0   5108468.0                       24.515178\n",
      "10          Hawaii                                    34988.0   1435138.0                       24.379537\n",
      "45        Virginia                                   146829.0   6136225.0                       23.928229\n",
      "26        Nebraska                                    46964.0   1978379.0                       23.738626\n",
      "32  North Carolina                                   252349.0  10835491.0                       23.289115 \n",
      "\n"
     ]
    }
   ],
   "source": [
    "# Aggregate data by state\n",
    "state_agg = merged_complete.groupby('state').agg({\n",
    "    'total: disability compensation recipients': 'sum',\n",
    "    '2023': 'sum'\n",
    "}).reset_index()\n",
    "\n",
    "# Compute state-level disability rate per 1,000 residents\n",
    "state_agg['state_disability_rate_per_1000'] = (\n",
    "    state_agg['total: disability compensation recipients'] / state_agg['2023']\n",
    ") * 1000\n",
    "\n",
    "# Sort by the computed rate in descending order to highlight states with highest rates\n",
    "state_agg_sorted = state_agg.sort_values(by='state_disability_rate_per_1000', ascending=False)\n",
    "\n",
    "print(\"State-Level Aggregated Data with Disability Rate (per 1,000 residents):\")\n",
    "print(state_agg_sorted.head(10).to_string(), \"\\n\")\n"
   ]
  },
  {
   "cell_type": "markdown",
   "metadata": {},
   "source": [
    "## X. Supporting Documentation <br>\n",
    "**Title: CO-EST2023-ALLDATA: Annual Resident Population Estimates, Estimated Components of Resident Population Change, and Rates of the Components of Resident Population Change for States and Counties. April 1, 2020 to July 1, 2023** <br>\n",
    "Format: PDF <br>\n",
    "Website: https://www2.census.gov/programs-surveys/popest/technical-documentation/file-layouts/2020-2023/CO-EST2023-ALLDATA.pdf <br>\n",
    "License: https://creativecommons.org/publicdomain/zero/1.0/ <br>\n",
    "\n",
    "**Title: license_doc_uscities_csv_simplemaps_com.txt** <br>\n",
    "Format: txt <br>\n",
    "Website: Website: https://simplemaps.com/data/us-cities <br>\n",
    "License: https://creativecommons.org/licenses/by/4.0/ <br>\n",
    "\n",
    "---"
   ]
  },
  {
   "cell_type": "markdown",
   "metadata": {},
   "source": []
  }
 ],
 "metadata": {
  "kernelspec": {
   "display_name": ".venv",
   "language": "python",
   "name": "python3"
  },
  "language_info": {
   "codemirror_mode": {
    "name": "ipython",
    "version": 3
   },
   "file_extension": ".py",
   "mimetype": "text/x-python",
   "name": "python",
   "nbconvert_exporter": "python",
   "pygments_lexer": "ipython3",
   "version": "3.13.1"
  }
 },
 "nbformat": 4,
 "nbformat_minor": 2
}
